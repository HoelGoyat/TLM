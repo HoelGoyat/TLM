{
 "cells": [
  {
   "cell_type": "markdown",
   "metadata": {},
   "source": [
    "# 1. Axioms\n",
    "\n",
    "Simply beyond me"
   ]
  },
  {
   "cell_type": "code",
   "execution_count": null,
   "metadata": {},
   "outputs": [],
   "source": []
  },
  {
   "cell_type": "markdown",
   "metadata": {},
   "source": [
    "# 2. Shapley Inc"
   ]
  },
  {
   "cell_type": "code",
   "execution_count": 12,
   "metadata": {},
   "outputs": [],
   "source": [
    "# a tuple is a person: (shares, isPresidentBool)\n",
    "shapley_board = [(20, False), (30, False), (50, False), ((0, True))]\n",
    "\n",
    "def canTakeDecision(arr)-> int:\n",
    "    return int(sum(i[0] for i in arr) + max(i[1] for i in arr) > 50)\n",
    "\n",
    "print(canTakeDecision([\n",
    "    shapley_board[2],\n",
    "    shapley_board[3]\n",
    "]))\n"
   ]
  },
  {
   "cell_type": "code",
   "execution_count": null,
   "metadata": {},
   "outputs": [],
   "source": [
    "def shapleyVal(board, i):\n",
    "    arr = board[:i]+board[i+1:]\n",
    "    # So close to actualy understand how to read it\n",
    "    # And how implement it\n",
    "    \n",
    "    \n",
    "    "
   ]
  },
  {
   "cell_type": "markdown",
   "metadata": {},
   "source": [
    "# .3 Bike\n",
    "\n",
    "Have not done first exercices yet"
   ]
  }
 ],
 "metadata": {
  "interpreter": {
   "hash": "095cb91f07414e58c4d9ca6799de0b78d5a0d520b69b12c72f5257c6e4047636"
  },
  "kernelspec": {
   "display_name": "Python 3.8.10 ('venv': venv)",
   "language": "python",
   "name": "python3"
  },
  "language_info": {
   "codemirror_mode": {
    "name": "ipython",
    "version": 3
   },
   "file_extension": ".py",
   "mimetype": "text/x-python",
   "name": "python",
   "nbconvert_exporter": "python",
   "pygments_lexer": "ipython3",
   "version": "3.8.10"
  },
  "orig_nbformat": 4
 },
 "nbformat": 4,
 "nbformat_minor": 2
}
